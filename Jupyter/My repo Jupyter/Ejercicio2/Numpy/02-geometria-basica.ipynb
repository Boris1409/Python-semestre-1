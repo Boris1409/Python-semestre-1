{
 "cells": [
  {
   "attachments": {},
   "cell_type": "markdown",
   "metadata": {},
   "source": [
    "<h2 style=\"color:white\"><center> Ejercicios Numpy - Estadisctica <center><h2>"
   ]
  },
  {
   "cell_type": "code",
   "execution_count": 3,
   "metadata": {},
   "outputs": [],
   "source": [
    "import numpy as np\n",
    "import math"
   ]
  },
  {
   "attachments": {},
   "cell_type": "markdown",
   "metadata": {},
   "source": [
    "<p><b># Ejercicio 1:</b> Segun la figura dada, encuentra el valor de a.<p>\n",
    "\n",
    "<center><img src=\"assets/images/ejercicio-1.png\"><center>"
   ]
  },
  {
   "cell_type": "code",
   "execution_count": null,
   "metadata": {},
   "outputs": [],
   "source": []
  },
  {
   "attachments": {},
   "cell_type": "markdown",
   "metadata": {},
   "source": [
    "<p><b># Ejercicio 2:</b> Segun la figura dada, calcular el valor de todos los lados y angulos del triangulo. Ademas de su area y perimetro. Mostrar el resultado de los angulos en notacion DMS. Redondear a 2 decimiales los resultados solo al mostrar en pantalla.<p>\n",
    "\n",
    "<center><img src=\"assets/images/ejercicio-2.gif\"><center>"
   ]
  },
  {
   "cell_type": "code",
   "execution_count": 4,
   "metadata": {},
   "outputs": [
    {
     "name": "stdout",
     "output_type": "stream",
     "text": [
      "3.141592653589793\n"
     ]
    }
   ],
   "source": [
    "pi = math.pi\n",
    "\n",
    "\"\"\" Definir los lados del triangulo \"\"\"\n",
    "\n",
    "lado_a = 7.5\n",
    "lado_c = 13.75\n",
    "lado_b = np.sqrt(lado_a**2 - lado_c**2)\n",
    "\n",
    "\"\"\" Calcular area y perimtro con funiones \"\"\"\n",
    "\n",
    "def calcular_perimtero():\n",
    "    perimetro = lado_a + lado_b + lado_c\n",
    "    return perimetro\n",
    "\n",
    "def calcular_area():\n",
    "    area = (lado_b * lado_c) / 2\n",
    "    return area\n",
    "\n",
    "\"\"\" De radianes a grados \"\"\"\n",
    "\n",
    "def convertir_radianes():\n"
   ]
  }
 ],
 "metadata": {
  "kernelspec": {
   "display_name": "Python 3",
   "language": "python",
   "name": "python3"
  },
  "language_info": {
   "codemirror_mode": {
    "name": "ipython",
    "version": 3
   },
   "file_extension": ".py",
   "mimetype": "text/x-python",
   "name": "python",
   "nbconvert_exporter": "python",
   "pygments_lexer": "ipython3",
   "version": "3.11.1"
  },
  "orig_nbformat": 4
 },
 "nbformat": 4,
 "nbformat_minor": 2
}
