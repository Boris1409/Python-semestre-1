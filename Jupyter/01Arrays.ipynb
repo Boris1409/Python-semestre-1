{
 "cells": [
  {
   "attachments": {},
   "cell_type": "markdown",
   "metadata": {},
   "source": [
    "##### **IMPORTANDO UNA LIBRERIA NUMPY** ###### "
   ]
  },
  {
   "cell_type": "code",
   "execution_count": 1,
   "metadata": {},
   "outputs": [],
   "source": [
    "import numpy as np"
   ]
  },
  {
   "attachments": {},
   "cell_type": "markdown",
   "metadata": {},
   "source": [
    "##### **CREANDO UNA LISTA DE 10 ELEMENTOS** ######"
   ]
  },
  {
   "cell_type": "code",
   "execution_count": 2,
   "metadata": {},
   "outputs": [
    {
     "data": {
      "text/plain": [
       "[1, 2, 3, 4, 5, 6, 7, 8, 9, 10]"
      ]
     },
     "execution_count": 2,
     "metadata": {},
     "output_type": "execute_result"
    }
   ],
   "source": [
    "lista = list(range(1,11))\n",
    "lista"
   ]
  },
  {
   "attachments": {},
   "cell_type": "markdown",
   "metadata": {},
   "source": [
    "##### **TRANSFORMANDO LA LISTA A UN ARRAY** #####"
   ]
  },
  {
   "cell_type": "code",
   "execution_count": 3,
   "metadata": {},
   "outputs": [
    {
     "data": {
      "text/plain": [
       "array([ 1,  2,  3,  4,  5,  6,  7,  8,  9, 10])"
      ]
     },
     "execution_count": 3,
     "metadata": {},
     "output_type": "execute_result"
    }
   ],
   "source": [
    "arreglo = np.array(lista)\n",
    "arreglo"
   ]
  },
  {
   "attachments": {},
   "cell_type": "markdown",
   "metadata": {},
   "source": [
    "##### **CORROBORANDO EL TIPO DE DATO** ###### "
   ]
  },
  {
   "cell_type": "code",
   "execution_count": 4,
   "metadata": {},
   "outputs": [
    {
     "data": {
      "text/plain": [
       "numpy.ndarray"
      ]
     },
     "execution_count": 4,
     "metadata": {},
     "output_type": "execute_result"
    }
   ],
   "source": [
    "type(arreglo)"
   ]
  },
  {
   "attachments": {},
   "cell_type": "markdown",
   "metadata": {},
   "source": [
    "##### **CORROBORANDO EL TIPO DE DATO DE ARREGLO** #####"
   ]
  },
  {
   "cell_type": "code",
   "execution_count": 5,
   "metadata": {},
   "outputs": [
    {
     "data": {
      "text/plain": [
       "dtype('int32')"
      ]
     },
     "execution_count": 5,
     "metadata": {},
     "output_type": "execute_result"
    }
   ],
   "source": [
    "arreglo.dtype"
   ]
  },
  {
   "attachments": {},
   "cell_type": "markdown",
   "metadata": {},
   "source": [
    "##### **DEFINIENDO EL ARRAY DE int32 a float32** #####"
   ]
  },
  {
   "cell_type": "code",
   "execution_count": 6,
   "metadata": {},
   "outputs": [
    {
     "data": {
      "text/plain": [
       "array([ 1.,  2.,  3.,  4.,  5.,  6.,  7.,  8.,  9., 10.], dtype=float32)"
      ]
     },
     "execution_count": 6,
     "metadata": {},
     "output_type": "execute_result"
    }
   ],
   "source": [
    "np.array(arreglo, dtype = np.float32)"
   ]
  },
  {
   "attachments": {},
   "cell_type": "markdown",
   "metadata": {},
   "source": [
    "##### **SIGUE SIENDO UN ARRA DE int32** #####"
   ]
  },
  {
   "cell_type": "code",
   "execution_count": 7,
   "metadata": {},
   "outputs": [
    {
     "data": {
      "text/plain": [
       "array([ 1,  2,  3,  4,  5,  6,  7,  8,  9, 10])"
      ]
     },
     "execution_count": 7,
     "metadata": {},
     "output_type": "execute_result"
    }
   ],
   "source": [
    "arreglo"
   ]
  },
  {
   "attachments": {},
   "cell_type": "markdown",
   "metadata": {},
   "source": [
    "##### **TRANSFORMANDO DATOS DE int32 a float32** #####"
   ]
  },
  {
   "cell_type": "code",
   "execution_count": 8,
   "metadata": {},
   "outputs": [
    {
     "data": {
      "text/plain": [
       "array([ 1.,  2.,  3.,  4.,  5.,  6.,  7.,  8.,  9., 10.], dtype=float32)"
      ]
     },
     "execution_count": 8,
     "metadata": {},
     "output_type": "execute_result"
    }
   ],
   "source": [
    "arreglo.astype(np.float32)"
   ]
  },
  {
   "cell_type": "code",
   "execution_count": 9,
   "metadata": {},
   "outputs": [
    {
     "data": {
      "text/plain": [
       "array([1, 3, 5, 7, 9])"
      ]
     },
     "execution_count": 9,
     "metadata": {},
     "output_type": "execute_result"
    }
   ],
   "source": [
    "arreglonew = np.arange(1,11,2)\n",
    "arreglonew"
   ]
  },
  {
   "attachments": {},
   "cell_type": "markdown",
   "metadata": {},
   "source": [
    "<h1 style = 'color:cyan'><b>ALGUNAS FUNCIONES DE NUMPY</b></h3>\n",
    "<h4 style = 'color:aquamarine'>Obteniendo el promedio del array</h3>"
   ]
  },
  {
   "cell_type": "code",
   "execution_count": 10,
   "metadata": {},
   "outputs": [
    {
     "data": {
      "text/plain": [
       "5.5"
      ]
     },
     "execution_count": 10,
     "metadata": {},
     "output_type": "execute_result"
    }
   ],
   "source": [
    "promedio = np.mean(arreglo)\n",
    "promedio"
   ]
  },
  {
   "cell_type": "code",
   "execution_count": 11,
   "metadata": {},
   "outputs": [
    {
     "data": {
      "text/plain": [
       "array([ 1,  2,  3,  4,  5,  6,  7,  8,  9, 10])"
      ]
     },
     "execution_count": 11,
     "metadata": {},
     "output_type": "execute_result"
    }
   ],
   "source": [
    "mediana = np.median(arreglo)\n",
    "arreglo"
   ]
  },
  {
   "cell_type": "code",
   "execution_count": 12,
   "metadata": {},
   "outputs": [
    {
     "data": {
      "text/plain": [
       "2.8722813232690143"
      ]
     },
     "execution_count": 12,
     "metadata": {},
     "output_type": "execute_result"
    }
   ],
   "source": [
    "desviacion_standard = np.std(arreglo)\n",
    "desviacion_standard "
   ]
  },
  {
   "cell_type": "code",
   "execution_count": 13,
   "metadata": {},
   "outputs": [
    {
     "data": {
      "text/plain": [
       "array([1., 1., 1., 1., 1., 1., 1., 1., 1., 1.])"
      ]
     },
     "execution_count": 13,
     "metadata": {},
     "output_type": "execute_result"
    }
   ],
   "source": [
    "arreglo_de_unos = np.ones(10)\n",
    "arreglo_de_unos"
   ]
  },
  {
   "cell_type": "code",
   "execution_count": 14,
   "metadata": {},
   "outputs": [
    {
     "data": {
      "text/plain": [
       "array([0., 0., 0., 0., 0., 0., 0., 0., 0., 0.])"
      ]
     },
     "execution_count": 14,
     "metadata": {},
     "output_type": "execute_result"
    }
   ],
   "source": [
    "arreglo_de_unos_2 = np.zeros(10)\n",
    "arreglo_de_unos_2"
   ]
  },
  {
   "cell_type": "code",
   "execution_count": 15,
   "metadata": {},
   "outputs": [
    {
     "data": {
      "text/plain": [
       "array([1, 1, 1, 1, 1, 1, 1, 1, 1, 1])"
      ]
     },
     "execution_count": 15,
     "metadata": {},
     "output_type": "execute_result"
    }
   ],
   "source": [
    "arreglo_de_unos = arreglo_de_unos.astype(int)\n",
    "arreglo_de_unos "
   ]
  },
  {
   "attachments": {},
   "cell_type": "markdown",
   "metadata": {},
   "source": [
    "<h1 style = 'color:orange'><b>UTILIZANDO LA FUNCION RANDOM</b></h3>\n",
    "<h4 style = 'color:blue'>Generando arreglo aleatorio de 5 elementos</h3>"
   ]
  },
  {
   "cell_type": "code",
   "execution_count": 16,
   "metadata": {},
   "outputs": [
    {
     "data": {
      "text/plain": [
       "array([0.43764562, 0.86313888, 0.47540301, 0.98755796, 0.42414179])"
      ]
     },
     "execution_count": 16,
     "metadata": {},
     "output_type": "execute_result"
    }
   ],
   "source": [
    "arreglo_aleatorio = np.random.rand(5)\n",
    "arreglo_aleatorio "
   ]
  },
  {
   "attachments": {},
   "cell_type": "markdown",
   "metadata": {},
   "source": [
    "<h4 style = 'color:blue'>Generando una matriz de 3x3</h5>"
   ]
  },
  {
   "cell_type": "code",
   "execution_count": 17,
   "metadata": {},
   "outputs": [
    {
     "data": {
      "text/plain": [
       "array([[0.58161252, 0.2200634 , 0.53597691],\n",
       "       [0.6467411 , 0.02279097, 0.20229423],\n",
       "       [0.90244374, 0.09914459, 0.23564307]])"
      ]
     },
     "execution_count": 17,
     "metadata": {},
     "output_type": "execute_result"
    }
   ],
   "source": [
    "matriz = np.random.rand(3,3)\n",
    "matriz"
   ]
  },
  {
   "attachments": {},
   "cell_type": "markdown",
   "metadata": {},
   "source": [
    "<h4 style = 'color:blue'>Generando un arreglo aleatorio de 10 numeros enteros del 1 al 5</h3>"
   ]
  },
  {
   "cell_type": "code",
   "execution_count": 18,
   "metadata": {},
   "outputs": [
    {
     "data": {
      "text/plain": [
       "array([[[7.55344911e-01, 6.22067386e-01, 9.27880888e-01, 2.83534958e-01,\n",
       "         3.53776899e-01],\n",
       "        [6.43803181e-01, 4.74921407e-01, 1.55359266e-04, 7.43366510e-01,\n",
       "         3.25564928e-01],\n",
       "        [6.67871170e-01, 8.28311837e-01, 3.36681934e-02, 7.72826830e-01,\n",
       "         3.26739937e-02]],\n",
       "\n",
       "       [[9.50713762e-01, 9.13365982e-01, 2.42041203e-02, 2.76887524e-01,\n",
       "         5.49735438e-01],\n",
       "        [5.55806931e-01, 1.74749848e-01, 1.92333113e-01, 3.13231937e-01,\n",
       "         2.16991970e-01],\n",
       "        [4.74583922e-01, 4.71446764e-01, 2.79334853e-01, 9.71283683e-01,\n",
       "         6.96376420e-01]]])"
      ]
     },
     "execution_count": 18,
     "metadata": {},
     "output_type": "execute_result"
    }
   ],
   "source": [
    "arreglo_aleatorio2 = np.random.rand(2,3,5)\n",
    "arreglo_aleatorio2"
   ]
  },
  {
   "attachments": {},
   "cell_type": "markdown",
   "metadata": {},
   "source": [
    "<h4 style = 'color:blue'>Generando una matriz aleatoria de 10 numeros enteros del 1 al 100</h3>"
   ]
  },
  {
   "cell_type": "code",
   "execution_count": 19,
   "metadata": {},
   "outputs": [
    {
     "data": {
      "text/plain": [
       "array([[30, 71, 70, 32, 68, 98, 12, 66, 59, 65, 10, 88, 99, 51, 21],\n",
       "       [22, 32, 56, 55, 50, 54, 64, 43, 77, 93, 84, 23, 64, 58, 17],\n",
       "       [63,  7, 41, 53, 67, 30, 25,  5, 56, 26,  3,  6, 53, 33, 53],\n",
       "       [11, 57, 26,  1, 40, 35, 52, 89, 97, 29, 74, 61, 40, 14, 44],\n",
       "       [49, 67, 33, 83, 69, 60, 89, 31, 74, 73, 97, 85, 79, 67, 77],\n",
       "       [99, 32, 80, 14, 93,  8, 10, 96, 18, 34, 44, 68, 33, 84, 66],\n",
       "       [58, 38, 95, 49,  8, 87, 66, 62, 38, 85, 66, 69, 27, 29, 74],\n",
       "       [37, 36, 66, 32, 80, 79, 17, 30, 79,  9,  5,  5, 54, 92, 40],\n",
       "       [59, 66, 34, 16, 53, 77, 25,  6, 10, 84, 71, 15, 31, 80,  8],\n",
       "       [ 3, 52, 62, 36, 48, 25, 66, 31, 30, 25, 80, 29, 30, 83, 40],\n",
       "       [56, 28,  7, 21, 27, 89,  8, 69, 93, 63, 60, 67, 56,  4, 53],\n",
       "       [29, 43, 85,  4, 12, 41, 64, 74, 71, 88, 64, 96, 75,  2, 38],\n",
       "       [ 6, 30, 37, 51, 49,  4, 10, 12, 15, 60, 97, 56, 50, 41,  2],\n",
       "       [49, 98, 51, 13, 25, 79, 47, 84, 66, 14, 24, 64, 27,  6, 15],\n",
       "       [84, 13, 87, 37, 91, 52, 71, 25, 91,  7, 60, 63,  1, 97, 83]])"
      ]
     },
     "execution_count": 19,
     "metadata": {},
     "output_type": "execute_result"
    }
   ],
   "source": [
    "matriz2 = np.random.randint(1,100,(15,15))\n",
    "matriz2"
   ]
  },
  {
   "attachments": {},
   "cell_type": "markdown",
   "metadata": {},
   "source": [
    "### **IMPRIMIR NUMEROS IMPARES DEL 1 AL 100** ###"
   ]
  },
  {
   "cell_type": "code",
   "execution_count": 20,
   "metadata": {},
   "outputs": [
    {
     "data": {
      "text/plain": [
       "array([ 1,  3,  5,  7,  9, 11, 13, 15, 17, 19, 21, 23, 25, 27, 29, 31, 33,\n",
       "       35, 37, 39, 41, 43, 45, 47, 49, 51, 53, 55, 57, 59, 61, 63, 65, 67,\n",
       "       69, 71, 73, 75, 77, 79, 81, 83, 85, 87, 89, 91, 93, 95, 97, 99])"
      ]
     },
     "execution_count": 20,
     "metadata": {},
     "output_type": "execute_result"
    }
   ],
   "source": [
    "arreglonuevo2 = np.arange(1,100,2)\n",
    "arreglonuevo2"
   ]
  },
  {
   "cell_type": "code",
   "execution_count": 21,
   "metadata": {},
   "outputs": [
    {
     "data": {
      "text/plain": [
       "(10,)"
      ]
     },
     "execution_count": 21,
     "metadata": {},
     "output_type": "execute_result"
    }
   ],
   "source": [
    "np.shape(arreglo)"
   ]
  },
  {
   "cell_type": "code",
   "execution_count": 22,
   "metadata": {},
   "outputs": [
    {
     "data": {
      "text/plain": [
       "array([6, 6, 6, 6, 9, 8, 2, 5, 8, 4, 5, 1])"
      ]
     },
     "execution_count": 22,
     "metadata": {},
     "output_type": "execute_result"
    }
   ],
   "source": [
    "arreglo = np.random.randint(1,10,12)\n",
    "arreglo"
   ]
  },
  {
   "cell_type": "code",
   "execution_count": 23,
   "metadata": {},
   "outputs": [
    {
     "data": {
      "text/plain": [
       "array([[6, 6, 6, 6, 9, 8, 2, 5, 8, 4, 5, 1]])"
      ]
     },
     "execution_count": 23,
     "metadata": {},
     "output_type": "execute_result"
    }
   ],
   "source": [
    "matriz = arreglo.reshape(1,12)\n",
    "matriz"
   ]
  },
  {
   "cell_type": "code",
   "execution_count": 24,
   "metadata": {},
   "outputs": [
    {
     "data": {
      "text/plain": [
       "(1, 12)"
      ]
     },
     "execution_count": 24,
     "metadata": {},
     "output_type": "execute_result"
    }
   ],
   "source": [
    "np.shape(matriz)"
   ]
  },
  {
   "cell_type": "code",
   "execution_count": 25,
   "metadata": {},
   "outputs": [
    {
     "name": "stdout",
     "output_type": "stream",
     "text": [
      "La posicion del valor max es <built-in method max of numpy.ndarray object at 0x00000202CC040390>\n"
     ]
    }
   ],
   "source": [
    "print('La posicion del valor max es',arreglo.max) "
   ]
  },
  {
   "cell_type": "code",
   "execution_count": null,
   "metadata": {},
   "outputs": [],
   "source": []
  },
  {
   "cell_type": "code",
   "execution_count": null,
   "metadata": {},
   "outputs": [],
   "source": []
  }
 ],
 "metadata": {
  "kernelspec": {
   "display_name": "Python 3",
   "language": "python",
   "name": "python3"
  },
  "language_info": {
   "codemirror_mode": {
    "name": "ipython",
    "version": 3
   },
   "file_extension": ".py",
   "mimetype": "text/x-python",
   "name": "python",
   "nbconvert_exporter": "python",
   "pygments_lexer": "ipython3",
   "version": "3.11.1"
  },
  "orig_nbformat": 4
 },
 "nbformat": 4,
 "nbformat_minor": 2
}
